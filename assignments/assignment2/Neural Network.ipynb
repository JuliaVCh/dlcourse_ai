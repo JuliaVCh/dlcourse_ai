{
 "cells": [
  {
   "cell_type": "markdown",
   "metadata": {},
   "source": [
    "# Задание 2.1 - Нейронные сети\n",
    "\n",
    "В этом задании вы реализуете и натренируете настоящую нейроную сеть своими руками!\n",
    "\n",
    "В некотором смысле это будет расширением прошлого задания - нам нужно просто составить несколько линейных классификаторов вместе!\n",
    "\n",
    "<img src=\"https://i.redd.it/n9fgba8b0qr01.png\" alt=\"Stack_more_layers\" width=\"400px\"/>"
   ]
  },
  {
   "cell_type": "code",
   "execution_count": 1,
   "metadata": {},
   "outputs": [],
   "source": [
    "import numpy as np\n",
    "import matplotlib.pyplot as plt\n",
    "\n",
    "%matplotlib inline\n",
    "\n",
    "%load_ext autoreload\n",
    "%autoreload 2"
   ]
  },
  {
   "cell_type": "code",
   "execution_count": 2,
   "metadata": {},
   "outputs": [],
   "source": [
    "from dataset import load_svhn, random_split_train_val\n",
    "from gradient_check import check_layer_gradient, check_layer_param_gradient, check_model_gradient\n",
    "from layers import FullyConnectedLayer, ReLULayer\n",
    "from model import TwoLayerNet\n",
    "from trainer import Trainer, Dataset\n",
    "from optim import SGD, MomentumSGD\n",
    "from metrics import multiclass_accuracy"
   ]
  },
  {
   "cell_type": "markdown",
   "metadata": {},
   "source": [
    "# Загружаем данные\n",
    "\n",
    "И разделяем их на training и validation."
   ]
  },
  {
   "cell_type": "code",
   "execution_count": 3,
   "metadata": {},
   "outputs": [],
   "source": [
    "def prepare_for_neural_network(train_X, test_X):\n",
    "    train_flat = train_X.reshape(train_X.shape[0], -1).astype(np.float) / 255.0\n",
    "    test_flat = test_X.reshape(test_X.shape[0], -1).astype(np.float) / 255.0\n",
    "    \n",
    "    # Subtract mean\n",
    "    mean_image = np.mean(train_flat, axis = 0)\n",
    "    train_flat -= mean_image\n",
    "    test_flat -= mean_image\n",
    "    \n",
    "    return train_flat, test_flat\n",
    "    \n",
    "train_X, train_y, test_X, test_y = load_svhn(\"data\", max_train=10000, max_test=1000)    \n",
    "train_X, test_X = prepare_for_neural_network(train_X, test_X)\n",
    "# Split train into train and val\n",
    "train_X, train_y, val_X, val_y = random_split_train_val(train_X, train_y, num_val = 1000)"
   ]
  },
  {
   "cell_type": "markdown",
   "metadata": {},
   "source": [
    "# Как всегда, начинаем с кирпичиков\n",
    "\n",
    "Мы будем реализовывать необходимые нам слои по очереди. Каждый слой должен реализовать:\n",
    "- прямой проход (forward pass), который генерирует выход слоя по входу и запоминает необходимые данные\n",
    "- обратный проход (backward pass), который получает градиент по выходу слоя и вычисляет градиент по входу и по параметрам\n",
    "\n",
    "Начнем с ReLU, у которого параметров нет."
   ]
  },
  {
   "cell_type": "code",
   "execution_count": 4,
   "metadata": {
    "scrolled": false
   },
   "outputs": [
    {
     "name": "stdout",
     "output_type": "stream",
     "text": [
      "Gradient check passed!\n"
     ]
    }
   ],
   "source": [
    "# TODO: Implement ReLULayer layer in layers.py\n",
    "# Note: you'll need to copy implementation of the gradient_check function from the previous assignment\n",
    "\n",
    "X = np.array([[1,-2,3],\n",
    "              [-1, 2, 0.1]\n",
    "              ])\n",
    "\n",
    "assert check_layer_gradient(ReLULayer(), X)"
   ]
  },
  {
   "cell_type": "markdown",
   "metadata": {},
   "source": [
    "А теперь реализуем полносвязный слой (fully connected layer), у которого будет два массива параметров: W (weights) и B (bias).\n",
    "\n",
    "Все параметры наши слои будут использовать для параметров специальный класс `Param`, в котором будут храниться значения параметров и градиенты этих параметров, вычисляемые во время обратного прохода.\n",
    "\n",
    "Это даст возможность аккумулировать (суммировать) градиенты из разных частей функции потерь, например, из cross-entropy loss и regularization loss."
   ]
  },
  {
   "cell_type": "code",
   "execution_count": 5,
   "metadata": {},
   "outputs": [
    {
     "name": "stdout",
     "output_type": "stream",
     "text": [
      "Gradient check passed!\n",
      "Gradient check passed!\n",
      "Gradient check passed!\n"
     ]
    }
   ],
   "source": [
    "# TODO: Implement FullyConnected layer forward and backward methods\n",
    "assert check_layer_gradient(FullyConnectedLayer(3, 4), X)\n",
    "# TODO: Implement storing gradients for W and B\n",
    "assert check_layer_param_gradient(FullyConnectedLayer(3, 4), X, 'W')\n",
    "assert check_layer_param_gradient(FullyConnectedLayer(3, 4), X, 'B')"
   ]
  },
  {
   "cell_type": "markdown",
   "metadata": {},
   "source": [
    "## Создаем нейронную сеть\n",
    "\n",
    "Теперь мы реализуем простейшую нейронную сеть с двумя полносвязным слоями и нелинейностью ReLU. Реализуйте функцию `compute_loss_and_gradients`, она должна запустить прямой и обратный проход через оба слоя для вычисления градиентов.\n",
    "\n",
    "Не забудьте реализовать очистку градиентов в начале функции."
   ]
  },
  {
   "cell_type": "code",
   "execution_count": 6,
   "metadata": {},
   "outputs": [
    {
     "name": "stdout",
     "output_type": "stream",
     "text": [
      "Checking gradient for W_1\n",
      "Gradient check passed!\n",
      "Checking gradient for W_2\n",
      "Gradient check passed!\n",
      "Checking gradient for B_1\n",
      "Gradient check passed!\n",
      "Checking gradient for B_2\n",
      "Gradient check passed!\n"
     ]
    },
    {
     "data": {
      "text/plain": [
       "True"
      ]
     },
     "execution_count": 6,
     "metadata": {},
     "output_type": "execute_result"
    }
   ],
   "source": [
    "# TODO: In model.py, implement compute_loss_and_gradients function\n",
    "model = TwoLayerNet(n_input = train_X.shape[1], n_output = 10, hidden_layer_size = 3, reg = 0)\n",
    "loss = model.compute_loss_and_gradients(train_X[:2], train_y[:2])\n",
    "\n",
    "# TODO Now implement backward pass and aggregate all of the params\n",
    "check_model_gradient(model, train_X[:2], train_y[:2])"
   ]
  },
  {
   "cell_type": "markdown",
   "metadata": {},
   "source": [
    "Теперь добавьте к модели регуляризацию - она должна прибавляться к loss и делать свой вклад в градиенты."
   ]
  },
  {
   "cell_type": "code",
   "execution_count": 7,
   "metadata": {},
   "outputs": [
    {
     "name": "stdout",
     "output_type": "stream",
     "text": [
      "Checking gradient for W_1\n",
      "Gradient check passed!\n",
      "Checking gradient for W_2\n",
      "Gradient check passed!\n",
      "Checking gradient for B_1\n",
      "Gradient check passed!\n",
      "Checking gradient for B_2\n",
      "Gradient check passed!\n"
     ]
    },
    {
     "data": {
      "text/plain": [
       "True"
      ]
     },
     "execution_count": 7,
     "metadata": {},
     "output_type": "execute_result"
    }
   ],
   "source": [
    "# TODO Now implement l2 regularization in the forward and backward pass\n",
    "model_with_reg = TwoLayerNet(n_input = train_X.shape[1], n_output = 10, hidden_layer_size = 3, reg = 1e1)\n",
    "loss_with_reg = model_with_reg.compute_loss_and_gradients(train_X[:2], train_y[:2])\n",
    "assert loss_with_reg > loss and not np.isclose(loss_with_reg, loss), \\\n",
    "    \"Loss with regularization (%2.4f) should be higher than without it (%2.4f)!\" % (loss, loss_with_reg)\n",
    "\n",
    "check_model_gradient(model_with_reg, train_X[:2], train_y[:2])"
   ]
  },
  {
   "cell_type": "markdown",
   "metadata": {},
   "source": [
    "Также реализуем функцию предсказания (вычисления значения) модели на новых данных.\n",
    "\n",
    "Какое значение точности мы ожидаем увидеть до начала тренировки?"
   ]
  },
  {
   "cell_type": "code",
   "execution_count": 8,
   "metadata": {},
   "outputs": [
    {
     "data": {
      "text/plain": [
       "0.1"
      ]
     },
     "execution_count": 8,
     "metadata": {},
     "output_type": "execute_result"
    }
   ],
   "source": [
    "# Finally, implement predict function!\n",
    "\n",
    "# TODO: Implement predict function\n",
    "# What would be the value we expect?\n",
    "multiclass_accuracy(model_with_reg.predict(train_X[:30]), train_y[:30]) "
   ]
  },
  {
   "cell_type": "markdown",
   "metadata": {},
   "source": [
    "# Допишем код для процесса тренировки\n",
    "\n",
    "Если все реализовано корректно, значение функции ошибки должно уменьшаться с каждой эпохой, пусть и медленно. Не беспокойтесь пока про validation accuracy."
   ]
  },
  {
   "cell_type": "code",
   "execution_count": 9,
   "metadata": {},
   "outputs": [
    {
     "name": "stdout",
     "output_type": "stream",
     "text": [
      "Loss: 2.367089, Train accuracy: 0.196667, val accuracy: 0.206000\n",
      "Loss: 2.300552, Train accuracy: 0.196667, val accuracy: 0.206000\n",
      "Loss: 2.300047, Train accuracy: 0.196667, val accuracy: 0.206000\n",
      "Loss: 2.302550, Train accuracy: 0.196667, val accuracy: 0.206000\n",
      "Loss: 2.301167, Train accuracy: 0.196667, val accuracy: 0.206000\n",
      "Loss: 2.299994, Train accuracy: 0.196667, val accuracy: 0.206000\n",
      "Loss: 2.303344, Train accuracy: 0.196667, val accuracy: 0.206000\n",
      "Loss: 2.301279, Train accuracy: 0.196667, val accuracy: 0.206000\n",
      "Loss: 2.302135, Train accuracy: 0.196667, val accuracy: 0.206000\n",
      "Loss: 2.301086, Train accuracy: 0.196667, val accuracy: 0.206000\n",
      "Loss: 2.301520, Train accuracy: 0.196667, val accuracy: 0.206000\n",
      "Loss: 2.302751, Train accuracy: 0.196667, val accuracy: 0.206000\n",
      "Loss: 2.302785, Train accuracy: 0.196667, val accuracy: 0.206000\n",
      "Loss: 2.302207, Train accuracy: 0.196667, val accuracy: 0.206000\n",
      "Loss: 2.303652, Train accuracy: 0.196667, val accuracy: 0.206000\n",
      "Loss: 2.301038, Train accuracy: 0.196667, val accuracy: 0.206000\n",
      "Loss: 2.302401, Train accuracy: 0.196667, val accuracy: 0.206000\n",
      "Loss: 2.302365, Train accuracy: 0.196667, val accuracy: 0.206000\n",
      "Loss: 2.301744, Train accuracy: 0.196667, val accuracy: 0.206000\n",
      "Loss: 2.302029, Train accuracy: 0.196667, val accuracy: 0.206000\n"
     ]
    }
   ],
   "source": [
    "model = TwoLayerNet(n_input = train_X.shape[1], n_output = 10, hidden_layer_size = 100, reg = 1e1)\n",
    "dataset = Dataset(train_X, train_y, val_X, val_y)\n",
    "trainer = Trainer(model, dataset, SGD(), learning_rate = 1e-3)\n",
    "# TODO Implement missing pieces in Trainer.fit function\n",
    "# You should expect loss to go down every epoch, even if it's slow\n",
    "loss_history, train_history, val_history = trainer.fit()"
   ]
  },
  {
   "cell_type": "code",
   "execution_count": 10,
   "metadata": {},
   "outputs": [
    {
     "data": {
      "text/plain": [
       "[<matplotlib.lines.Line2D at 0x2a1b9be7e10>]"
      ]
     },
     "execution_count": 10,
     "metadata": {},
     "output_type": "execute_result"
    },
    {
     "data": {
      "image/png": "[encoded data removed]",
      "text/plain": [
       "<Figure size 432x288 with 1 Axes>"
      ]
     },
     "metadata": {
      "needs_background": "light"
     },
     "output_type": "display_data"
    }
   ],
   "source": [
    "plt.plot(loss_history)"
   ]
  },
  {
   "cell_type": "code",
   "execution_count": 11,
   "metadata": {},
   "outputs": [
    {
     "data": {
      "text/plain": [
       "[<matplotlib.lines.Line2D at 0x2a1b9c8b780>]"
      ]
     },
     "execution_count": 11,
     "metadata": {},
     "output_type": "execute_result"
    },
    {
     "data": {
      "image/png": "[encoded data removed]",
      "text/plain": [
       "<Figure size 432x288 with 1 Axes>"
      ]
     },
     "metadata": {
      "needs_background": "light"
     },
     "output_type": "display_data"
    }
   ],
   "source": [
    "plt.plot(train_history)\n",
    "plt.plot(val_history)"
   ]
  },
  {
   "cell_type": "markdown",
   "metadata": {},
   "source": [
    "# Улучшаем процесс тренировки\n",
    "\n",
    "Мы реализуем несколько ключевых оптимизаций, необходимых для тренировки современных нейросетей."
   ]
  },
  {
   "cell_type": "markdown",
   "metadata": {},
   "source": [
    "## Уменьшение скорости обучения (learning rate decay)\n",
    "\n",
    "Одна из необходимых оптимизаций во время тренировки нейронных сетей - постепенное уменьшение скорости обучения по мере тренировки.\n",
    "\n",
    "Один из стандартных методов - уменьшение скорости обучения (learning rate) каждые N эпох на коэффициент d (часто называемый decay). Значения N и d, как всегда, являются гиперпараметрами и должны подбираться на основе эффективности на проверочных данных (validation data). \n",
    "\n",
    "В нашем случае N будет равным 1."
   ]
  },
  {
   "cell_type": "code",
   "execution_count": 12,
   "metadata": {},
   "outputs": [
    {
     "name": "stdout",
     "output_type": "stream",
     "text": [
      "Loss: 4.477455, Train accuracy: 0.223333, val accuracy: 0.227000\n",
      "Loss: 3.307441, Train accuracy: 0.217778, val accuracy: 0.221000\n",
      "Loss: 2.630796, Train accuracy: 0.209889, val accuracy: 0.216000\n",
      "Loss: 2.432976, Train accuracy: 0.211667, val accuracy: 0.218000\n",
      "Loss: 2.299323, Train accuracy: 0.207111, val accuracy: 0.214000\n",
      "Loss: 2.225376, Train accuracy: 0.209000, val accuracy: 0.214000\n",
      "Loss: 2.164636, Train accuracy: 0.212111, val accuracy: 0.219000\n",
      "Loss: 2.357278, Train accuracy: 0.212556, val accuracy: 0.218000\n",
      "Loss: 2.292182, Train accuracy: 0.215111, val accuracy: 0.219000\n",
      "Loss: 2.282084, Train accuracy: 0.216889, val accuracy: 0.220000\n",
      "Loss: 2.230655, Train accuracy: 0.214111, val accuracy: 0.218000\n",
      "Loss: 2.242413, Train accuracy: 0.220778, val accuracy: 0.224000\n",
      "Loss: 2.438257, Train accuracy: 0.223778, val accuracy: 0.225000\n",
      "Loss: 2.149861, Train accuracy: 0.218222, val accuracy: 0.221000\n",
      "Loss: 2.445436, Train accuracy: 0.225444, val accuracy: 0.235000\n",
      "Loss: 2.252863, Train accuracy: 0.222667, val accuracy: 0.232000\n",
      "Loss: 2.252901, Train accuracy: 0.226333, val accuracy: 0.229000\n",
      "Loss: 2.189693, Train accuracy: 0.227000, val accuracy: 0.229000\n",
      "Loss: 2.205202, Train accuracy: 0.229556, val accuracy: 0.230000\n",
      "Loss: 2.298984, Train accuracy: 0.230889, val accuracy: 0.234000\n"
     ]
    }
   ],
   "source": [
    "# TODO Implement learning rate decay inside Trainer.fit method\n",
    "# Decay should happen once per epoch\n",
    "\n",
    "model = TwoLayerNet(n_input = train_X.shape[1], n_output = 10, hidden_layer_size = 100, reg = 1e-1)\n",
    "dataset = Dataset(train_X, train_y, val_X, val_y)\n",
    "trainer = Trainer(model, dataset, SGD(), learning_rate_decay=0.99)\n",
    "\n",
    "initial_learning_rate = trainer.learning_rate\n",
    "loss_history, train_history, val_history = trainer.fit()\n",
    "\n",
    "assert trainer.learning_rate < initial_learning_rate, \"Learning rate should've been reduced\"\n",
    "assert trainer.learning_rate > 0.5*initial_learning_rate, \"Learning rate shouldn'tve been reduced that much!\""
   ]
  },
  {
   "cell_type": "markdown",
   "metadata": {},
   "source": [
    "# Накопление импульса (Momentum SGD)\n",
    "\n",
    "Другой большой класс оптимизаций - использование более эффективных методов градиентного спуска. Мы реализуем один из них - накопление импульса (Momentum SGD).\n",
    "\n",
    "Этот метод хранит скорость движения, использует градиент для ее изменения на каждом шаге, и изменяет веса пропорционально значению скорости.\n",
    "(Физическая аналогия: Вместо скорости градиенты теперь будут задавать ускорение, но будет присутствовать сила трения.)\n",
    "\n",
    "```\n",
    "velocity = momentum * velocity - learning_rate * gradient \n",
    "w = w + velocity\n",
    "```\n",
    "\n",
    "`momentum` здесь коэффициент затухания, который тоже является гиперпараметром (к счастью, для него часто есть хорошее значение по умолчанию, типичный диапазон -- 0.8-0.99).\n",
    "\n",
    "Несколько полезных ссылок, где метод разбирается более подробно:  \n",
    "http://cs231n.github.io/neural-networks-3/#sgd  \n",
    "https://distill.pub/2017/momentum/"
   ]
  },
  {
   "cell_type": "code",
   "execution_count": 13,
   "metadata": {},
   "outputs": [
    {
     "name": "stdout",
     "output_type": "stream",
     "text": [
      "Loss: 7.372315, Train accuracy: 0.171556, val accuracy: 0.178000\n",
      "Loss: 6.866657, Train accuracy: 0.203000, val accuracy: 0.226000\n",
      "Loss: 6.518223, Train accuracy: 0.213222, val accuracy: 0.214000\n",
      "Loss: 5.989601, Train accuracy: 0.215444, val accuracy: 0.213000\n",
      "Loss: 5.694062, Train accuracy: 0.215889, val accuracy: 0.216000\n",
      "Loss: 5.609747, Train accuracy: 0.216556, val accuracy: 0.214000\n",
      "Loss: 5.183031, Train accuracy: 0.218000, val accuracy: 0.217000\n",
      "Loss: 4.928319, Train accuracy: 0.216333, val accuracy: 0.219000\n",
      "Loss: 4.728091, Train accuracy: 0.217111, val accuracy: 0.220000\n",
      "Loss: 4.544668, Train accuracy: 0.216000, val accuracy: 0.221000\n",
      "Loss: 4.390727, Train accuracy: 0.216556, val accuracy: 0.221000\n",
      "Loss: 4.285611, Train accuracy: 0.216444, val accuracy: 0.222000\n",
      "Loss: 3.981328, Train accuracy: 0.215778, val accuracy: 0.221000\n",
      "Loss: 3.947577, Train accuracy: 0.215556, val accuracy: 0.222000\n",
      "Loss: 3.832581, Train accuracy: 0.216222, val accuracy: 0.222000\n",
      "Loss: 3.643637, Train accuracy: 0.215889, val accuracy: 0.222000\n",
      "Loss: 3.592111, Train accuracy: 0.216222, val accuracy: 0.222000\n",
      "Loss: 3.413925, Train accuracy: 0.216222, val accuracy: 0.222000\n",
      "Loss: 3.343187, Train accuracy: 0.216111, val accuracy: 0.221000\n",
      "Loss: 3.384620, Train accuracy: 0.216000, val accuracy: 0.221000\n"
     ]
    }
   ],
   "source": [
    "# TODO: Implement MomentumSGD.update function in optim.py\n",
    "\n",
    "model = TwoLayerNet(n_input = train_X.shape[1], n_output = 10, hidden_layer_size = 100, reg = 1e-1)\n",
    "dataset = Dataset(train_X, train_y, val_X, val_y)\n",
    "trainer = Trainer(model, dataset, MomentumSGD(), learning_rate=1e-4, learning_rate_decay=0.99)\n",
    "\n",
    "#trainer.compute_accuracy(val_X, val_y)\n",
    "# You should see even better results than before!\n",
    "loss_history, train_history, val_history = trainer.fit()"
   ]
  },
  {
   "cell_type": "markdown",
   "metadata": {},
   "source": [
    "# Ну что, давайте уже тренировать сеть!"
   ]
  },
  {
   "cell_type": "markdown",
   "metadata": {},
   "source": [
    "## Последний тест - переобучимся (overfit) на маленьком наборе данных\n",
    "\n",
    "Хороший способ проверить, все ли реализовано корректно - переобучить сеть на маленьком наборе данных.  \n",
    "Наша модель обладает достаточной мощностью, чтобы приблизить маленький набор данных идеально, поэтому мы ожидаем, что на нем мы быстро дойдем до 100% точности на тренировочном наборе. \n",
    "\n",
    "Если этого не происходит, то где-то была допущена ошибка!"
   ]
  },
  {
   "cell_type": "code",
   "execution_count": 14,
   "metadata": {},
   "outputs": [
    {
     "name": "stdout",
     "output_type": "stream",
     "text": [
      "Loss: 8.033130, Train accuracy: 0.533333, val accuracy: 0.000000\n",
      "Loss: 6.492887, Train accuracy: 0.733333, val accuracy: 0.000000\n",
      "Loss: 6.292600, Train accuracy: 0.800000, val accuracy: 0.000000\n",
      "Loss: 5.835474, Train accuracy: 0.933333, val accuracy: 0.000000\n",
      "Loss: 5.175267, Train accuracy: 0.933333, val accuracy: 0.000000\n",
      "Loss: 5.114466, Train accuracy: 0.933333, val accuracy: 0.000000\n",
      "Loss: 4.839036, Train accuracy: 0.933333, val accuracy: 0.000000\n",
      "Loss: 4.332513, Train accuracy: 1.000000, val accuracy: 0.000000\n",
      "Loss: 3.923934, Train accuracy: 0.933333, val accuracy: 0.000000\n",
      "Loss: 3.793648, Train accuracy: 1.000000, val accuracy: 0.000000\n",
      "Loss: 3.649526, Train accuracy: 1.000000, val accuracy: 0.000000\n",
      "Loss: 3.388257, Train accuracy: 1.000000, val accuracy: 0.000000\n",
      "Loss: 3.343885, Train accuracy: 1.000000, val accuracy: 0.000000\n",
      "Loss: 3.432993, Train accuracy: 1.000000, val accuracy: 0.000000\n",
      "Loss: 3.164447, Train accuracy: 1.000000, val accuracy: 0.000000\n",
      "Loss: 2.728196, Train accuracy: 1.000000, val accuracy: 0.000000\n",
      "Loss: 3.018786, Train accuracy: 1.000000, val accuracy: 0.000000\n",
      "Loss: 2.541885, Train accuracy: 1.000000, val accuracy: 0.000000\n",
      "Loss: 2.547665, Train accuracy: 1.000000, val accuracy: 0.000000\n",
      "Loss: 2.346438, Train accuracy: 1.000000, val accuracy: 0.000000\n",
      "Loss: 2.287144, Train accuracy: 1.000000, val accuracy: 0.000000\n",
      "Loss: 2.169514, Train accuracy: 1.000000, val accuracy: 0.000000\n",
      "Loss: 2.278400, Train accuracy: 1.000000, val accuracy: 0.000000\n",
      "Loss: 2.123367, Train accuracy: 1.000000, val accuracy: 0.000000\n",
      "Loss: 2.041872, Train accuracy: 1.000000, val accuracy: 0.000000\n",
      "Loss: 1.927931, Train accuracy: 1.000000, val accuracy: 0.000000\n",
      "Loss: 1.972177, Train accuracy: 1.000000, val accuracy: 0.000000\n",
      "Loss: 1.835487, Train accuracy: 1.000000, val accuracy: 0.000000\n",
      "Loss: 1.795930, Train accuracy: 1.000000, val accuracy: 0.000000\n",
      "Loss: 1.678634, Train accuracy: 1.000000, val accuracy: 0.000000\n",
      "Loss: 1.676116, Train accuracy: 1.000000, val accuracy: 0.000000\n",
      "Loss: 1.579692, Train accuracy: 1.000000, val accuracy: 0.000000\n",
      "Loss: 1.549415, Train accuracy: 1.000000, val accuracy: 0.000000\n",
      "Loss: 1.583070, Train accuracy: 1.000000, val accuracy: 0.000000\n",
      "Loss: 1.450561, Train accuracy: 1.000000, val accuracy: 0.000000\n",
      "Loss: 1.526510, Train accuracy: 1.000000, val accuracy: 0.000000\n",
      "Loss: 1.350646, Train accuracy: 1.000000, val accuracy: 0.000000\n",
      "Loss: 1.439596, Train accuracy: 1.000000, val accuracy: 0.000000\n",
      "Loss: 1.305822, Train accuracy: 1.000000, val accuracy: 0.000000\n",
      "Loss: 1.382276, Train accuracy: 1.000000, val accuracy: 0.000000\n",
      "Loss: 1.308670, Train accuracy: 1.000000, val accuracy: 0.000000\n",
      "Loss: 1.249941, Train accuracy: 1.000000, val accuracy: 0.000000\n",
      "Loss: 1.312271, Train accuracy: 1.000000, val accuracy: 0.000000\n",
      "Loss: 1.218257, Train accuracy: 1.000000, val accuracy: 0.000000\n",
      "Loss: 1.144731, Train accuracy: 1.000000, val accuracy: 0.000000\n",
      "Loss: 1.141749, Train accuracy: 1.000000, val accuracy: 0.000000\n",
      "Loss: 1.159989, Train accuracy: 1.000000, val accuracy: 0.000000\n",
      "Loss: 1.102986, Train accuracy: 1.000000, val accuracy: 0.000000\n",
      "Loss: 1.097532, Train accuracy: 1.000000, val accuracy: 0.000000\n",
      "Loss: 1.080032, Train accuracy: 1.000000, val accuracy: 0.000000\n",
      "Loss: 1.047424, Train accuracy: 1.000000, val accuracy: 0.000000\n",
      "Loss: 1.048735, Train accuracy: 1.000000, val accuracy: 0.000000\n",
      "Loss: 1.004209, Train accuracy: 1.000000, val accuracy: 0.000000\n",
      "Loss: 1.060787, Train accuracy: 1.000000, val accuracy: 0.000000\n",
      "Loss: 1.028605, Train accuracy: 1.000000, val accuracy: 0.000000\n",
      "Loss: 1.000529, Train accuracy: 1.000000, val accuracy: 0.000000\n",
      "Loss: 0.927114, Train accuracy: 1.000000, val accuracy: 0.000000\n",
      "Loss: 0.921837, Train accuracy: 1.000000, val accuracy: 0.000000\n",
      "Loss: 0.977793, Train accuracy: 1.000000, val accuracy: 0.000000\n",
      "Loss: 0.915795, Train accuracy: 1.000000, val accuracy: 0.000000\n",
      "Loss: 1.013161, Train accuracy: 1.000000, val accuracy: 0.000000\n",
      "Loss: 0.902651, Train accuracy: 1.000000, val accuracy: 0.000000\n",
      "Loss: 0.920236, Train accuracy: 1.000000, val accuracy: 0.000000\n",
      "Loss: 0.951474, Train accuracy: 1.000000, val accuracy: 0.000000\n",
      "Loss: 0.934158, Train accuracy: 1.000000, val accuracy: 0.000000\n",
      "Loss: 0.854676, Train accuracy: 1.000000, val accuracy: 0.000000\n",
      "Loss: 0.838586, Train accuracy: 1.000000, val accuracy: 0.000000\n",
      "Loss: 0.813014, Train accuracy: 1.000000, val accuracy: 0.000000\n",
      "Loss: 0.837355, Train accuracy: 1.000000, val accuracy: 0.000000\n",
      "Loss: 0.948313, Train accuracy: 1.000000, val accuracy: 0.000000\n",
      "Loss: 0.876472, Train accuracy: 1.000000, val accuracy: 0.000000\n",
      "Loss: 0.850345, Train accuracy: 1.000000, val accuracy: 0.000000\n",
      "Loss: 0.859625, Train accuracy: 1.000000, val accuracy: 0.000000\n",
      "Loss: 0.893057, Train accuracy: 1.000000, val accuracy: 0.000000\n",
      "Loss: 0.849389, Train accuracy: 1.000000, val accuracy: 0.000000\n",
      "Loss: 0.915072, Train accuracy: 1.000000, val accuracy: 0.000000\n",
      "Loss: 0.893764, Train accuracy: 1.000000, val accuracy: 0.000000\n",
      "Loss: 0.887842, Train accuracy: 1.000000, val accuracy: 0.000000\n",
      "Loss: 0.803508, Train accuracy: 1.000000, val accuracy: 0.000000\n",
      "Loss: 0.907924, Train accuracy: 1.000000, val accuracy: 0.000000\n",
      "Loss: 0.861503, Train accuracy: 1.000000, val accuracy: 0.000000\n",
      "Loss: 0.791052, Train accuracy: 1.000000, val accuracy: 0.000000\n",
      "Loss: 0.827613, Train accuracy: 1.000000, val accuracy: 0.000000\n",
      "Loss: 0.817390, Train accuracy: 1.000000, val accuracy: 0.000000\n",
      "Loss: 0.766725, Train accuracy: 1.000000, val accuracy: 0.000000\n",
      "Loss: 0.804020, Train accuracy: 1.000000, val accuracy: 0.000000\n",
      "Loss: 0.772947, Train accuracy: 1.000000, val accuracy: 0.000000\n",
      "Loss: 0.776543, Train accuracy: 1.000000, val accuracy: 0.000000\n",
      "Loss: 0.833912, Train accuracy: 1.000000, val accuracy: 0.000000\n",
      "Loss: 0.879302, Train accuracy: 1.000000, val accuracy: 0.000000\n",
      "Loss: 0.814899, Train accuracy: 1.000000, val accuracy: 0.000000\n",
      "Loss: 0.825587, Train accuracy: 1.000000, val accuracy: 0.000000\n",
      "Loss: 0.824063, Train accuracy: 1.000000, val accuracy: 0.000000\n",
      "Loss: 0.776321, Train accuracy: 1.000000, val accuracy: 0.000000\n",
      "Loss: 0.833327, Train accuracy: 1.000000, val accuracy: 0.000000\n",
      "Loss: 0.806273, Train accuracy: 1.000000, val accuracy: 0.000000\n",
      "Loss: 0.789664, Train accuracy: 1.000000, val accuracy: 0.000000\n",
      "Loss: 0.887936, Train accuracy: 1.000000, val accuracy: 0.000000\n",
      "Loss: 0.796242, Train accuracy: 1.000000, val accuracy: 0.000000\n",
      "Loss: 0.815505, Train accuracy: 1.000000, val accuracy: 0.000000\n",
      "Loss: 0.859795, Train accuracy: 1.000000, val accuracy: 0.000000\n",
      "Loss: 0.774128, Train accuracy: 1.000000, val accuracy: 0.000000\n",
      "Loss: 0.867717, Train accuracy: 1.000000, val accuracy: 0.000000\n",
      "Loss: 0.738370, Train accuracy: 1.000000, val accuracy: 0.000000\n",
      "Loss: 0.834622, Train accuracy: 1.000000, val accuracy: 0.000000\n",
      "Loss: 0.786160, Train accuracy: 1.000000, val accuracy: 0.000000\n",
      "Loss: 0.800077, Train accuracy: 1.000000, val accuracy: 0.000000\n",
      "Loss: 0.876599, Train accuracy: 1.000000, val accuracy: 0.000000\n",
      "Loss: 0.768651, Train accuracy: 1.000000, val accuracy: 0.000000\n",
      "Loss: 0.757140, Train accuracy: 1.000000, val accuracy: 0.000000\n",
      "Loss: 0.839760, Train accuracy: 1.000000, val accuracy: 0.000000\n",
      "Loss: 0.766066, Train accuracy: 1.000000, val accuracy: 0.000000\n",
      "Loss: 0.743387, Train accuracy: 1.000000, val accuracy: 0.000000\n",
      "Loss: 0.786709, Train accuracy: 1.000000, val accuracy: 0.000000\n",
      "Loss: 0.806791, Train accuracy: 1.000000, val accuracy: 0.000000\n",
      "Loss: 0.819998, Train accuracy: 1.000000, val accuracy: 0.000000\n",
      "Loss: 0.835207, Train accuracy: 1.000000, val accuracy: 0.000000\n",
      "Loss: 0.798600, Train accuracy: 1.000000, val accuracy: 0.000000\n",
      "Loss: 0.840851, Train accuracy: 1.000000, val accuracy: 0.000000\n",
      "Loss: 0.850643, Train accuracy: 1.000000, val accuracy: 0.000000\n",
      "Loss: 0.783746, Train accuracy: 1.000000, val accuracy: 0.000000\n",
      "Loss: 0.879830, Train accuracy: 1.000000, val accuracy: 0.000000\n",
      "Loss: 0.729087, Train accuracy: 1.000000, val accuracy: 0.000000\n",
      "Loss: 0.835846, Train accuracy: 1.000000, val accuracy: 0.000000\n",
      "Loss: 0.767195, Train accuracy: 1.000000, val accuracy: 0.000000\n",
      "Loss: 0.761909, Train accuracy: 1.000000, val accuracy: 0.000000\n",
      "Loss: 0.759718, Train accuracy: 1.000000, val accuracy: 0.000000\n"
     ]
    },
    {
     "name": "stdout",
     "output_type": "stream",
     "text": [
      "Loss: 0.714041, Train accuracy: 1.000000, val accuracy: 0.000000\n",
      "Loss: 0.691944, Train accuracy: 1.000000, val accuracy: 0.000000\n",
      "Loss: 0.867151, Train accuracy: 1.000000, val accuracy: 0.000000\n",
      "Loss: 0.863245, Train accuracy: 1.000000, val accuracy: 0.000000\n",
      "Loss: 0.821648, Train accuracy: 1.000000, val accuracy: 0.000000\n",
      "Loss: 0.752296, Train accuracy: 1.000000, val accuracy: 0.000000\n",
      "Loss: 0.762513, Train accuracy: 1.000000, val accuracy: 0.000000\n",
      "Loss: 0.748121, Train accuracy: 1.000000, val accuracy: 0.000000\n",
      "Loss: 0.794206, Train accuracy: 1.000000, val accuracy: 0.000000\n",
      "Loss: 0.763842, Train accuracy: 1.000000, val accuracy: 0.000000\n",
      "Loss: 0.788270, Train accuracy: 1.000000, val accuracy: 0.000000\n",
      "Loss: 0.793778, Train accuracy: 1.000000, val accuracy: 0.000000\n",
      "Loss: 0.715493, Train accuracy: 1.000000, val accuracy: 0.000000\n",
      "Loss: 0.804586, Train accuracy: 1.000000, val accuracy: 0.000000\n",
      "Loss: 0.802929, Train accuracy: 1.000000, val accuracy: 0.000000\n",
      "Loss: 0.766411, Train accuracy: 1.000000, val accuracy: 0.000000\n",
      "Loss: 0.810536, Train accuracy: 1.000000, val accuracy: 0.000000\n",
      "Loss: 0.769756, Train accuracy: 1.000000, val accuracy: 0.000000\n",
      "Loss: 0.836111, Train accuracy: 1.000000, val accuracy: 0.000000\n",
      "Loss: 0.786064, Train accuracy: 1.000000, val accuracy: 0.000000\n",
      "Loss: 0.816618, Train accuracy: 1.000000, val accuracy: 0.000000\n",
      "Loss: 0.818078, Train accuracy: 1.000000, val accuracy: 0.000000\n",
      "Loss: 0.827109, Train accuracy: 1.000000, val accuracy: 0.000000\n"
     ]
    }
   ],
   "source": [
    "data_size = 15\n",
    "model = TwoLayerNet(n_input = train_X.shape[1], n_output = 10, hidden_layer_size = 100, reg = 1e-1)\n",
    "dataset = Dataset(train_X[:data_size], train_y[:data_size], val_X[:data_size], val_y[:data_size])\n",
    "trainer = Trainer(model, dataset, SGD(), learning_rate=1e-1, num_epochs=150, batch_size=5)\n",
    "\n",
    "# You should expect this to reach 1.0 training accuracy \n",
    "loss_history, train_history, val_history = trainer.fit()"
   ]
  },
  {
   "cell_type": "markdown",
   "metadata": {},
   "source": [
    "Теперь найдем гипепараметры, для которых этот процесс сходится быстрее.\n",
    "Если все реализовано корректно, то существуют параметры, при которых процесс сходится в **20** эпох или еще быстрее.\n",
    "Найдите их!"
   ]
  },
  {
   "cell_type": "code",
   "execution_count": 15,
   "metadata": {},
   "outputs": [
    {
     "name": "stdout",
     "output_type": "stream",
     "text": [
      "Loss: 7.140303, Train accuracy: 0.666667, val accuracy: 0.000000\n",
      "Loss: 5.999131, Train accuracy: 0.800000, val accuracy: 0.000000\n",
      "Loss: 6.343686, Train accuracy: 0.800000, val accuracy: 0.000000\n",
      "Loss: 4.388766, Train accuracy: 0.933333, val accuracy: 0.000000\n",
      "Loss: 2.898324, Train accuracy: 0.733333, val accuracy: 0.000000\n",
      "Loss: 2.063525, Train accuracy: 0.800000, val accuracy: 0.000000\n",
      "Loss: 3.828397, Train accuracy: 0.933333, val accuracy: 0.133333\n",
      "Loss: 2.849780, Train accuracy: 0.800000, val accuracy: 0.000000\n",
      "Loss: 2.852911, Train accuracy: 0.866667, val accuracy: 0.066667\n",
      "Loss: 3.220178, Train accuracy: 0.733333, val accuracy: 0.066667\n",
      "Loss: 7.172790, Train accuracy: 0.866667, val accuracy: 0.000000\n",
      "Loss: 5.103165, Train accuracy: 0.866667, val accuracy: 0.000000\n",
      "Loss: 5.097703, Train accuracy: 0.733333, val accuracy: 0.133333\n",
      "Loss: 6.987226, Train accuracy: 1.000000, val accuracy: 0.066667\n",
      "Loss: 4.642470, Train accuracy: 0.666667, val accuracy: 0.066667\n",
      "Loss: 9.055120, Train accuracy: 0.466667, val accuracy: 0.133333\n",
      "Loss: 16.415385, Train accuracy: 0.533333, val accuracy: 0.066667\n",
      "Loss: 99.023452, Train accuracy: 0.533333, val accuracy: 0.066667\n",
      "Loss: 16.249545, Train accuracy: 0.666667, val accuracy: 0.133333\n",
      "Loss: 20.829999, Train accuracy: 0.666667, val accuracy: 0.000000\n"
     ]
    }
   ],
   "source": [
    "# Now, tweak some hyper parameters and make it train to 1.0 accuracy in 20 epochs or less\n",
    "\n",
    "model = TwoLayerNet(n_input = train_X.shape[1], n_output = 10, hidden_layer_size = 100, reg = 1e-1)\n",
    "dataset = Dataset(train_X[:data_size], train_y[:data_size], val_X[:data_size], val_y[:data_size])\n",
    "# TODO: Change any hyperparamers or optimizators to reach 1.0 training accuracy in 20 epochs\n",
    "trainer = Trainer(model, dataset, MomentumSGD(), learning_rate=1e-1, num_epochs=20, batch_size=5)\n",
    "\n",
    "loss_history, train_history, val_history = trainer.fit()"
   ]
  },
  {
   "cell_type": "markdown",
   "metadata": {},
   "source": [
    "# Итак, основное мероприятие!\n",
    "\n",
    "Натренируйте лучшую нейросеть! Можно добавлять и изменять параметры, менять количество нейронов в слоях сети и как угодно экспериментировать. \n",
    "\n",
    "Добейтесь точности лучше **60%** на validation set."
   ]
  },
  {
   "cell_type": "code",
   "execution_count": 16,
   "metadata": {
    "scrolled": true
   },
   "outputs": [
    {
     "name": "stdout",
     "output_type": "stream",
     "text": [
      "[[1.00e-03 1.00e-04 9.99e-01]\n",
      " [1.00e-03 1.00e-05 9.99e-01]\n",
      " [1.00e-03 1.00e-06 9.99e-01]\n",
      " [1.00e-04 1.00e-04 9.99e-01]\n",
      " [1.00e-04 1.00e-05 9.99e-01]\n",
      " [1.00e-04 1.00e-06 9.99e-01]\n",
      " [1.00e-05 1.00e-04 9.99e-01]\n",
      " [1.00e-05 1.00e-05 9.99e-01]\n",
      " [1.00e-05 1.00e-06 9.99e-01]\n",
      " [1.00e-03 1.00e-04 9.00e-01]\n",
      " [1.00e-03 1.00e-05 9.00e-01]\n",
      " [1.00e-03 1.00e-06 9.00e-01]\n",
      " [1.00e-04 1.00e-04 9.00e-01]\n",
      " [1.00e-04 1.00e-05 9.00e-01]\n",
      " [1.00e-04 1.00e-06 9.00e-01]\n",
      " [1.00e-05 1.00e-04 9.00e-01]\n",
      " [1.00e-05 1.00e-05 9.00e-01]\n",
      " [1.00e-05 1.00e-06 9.00e-01]\n",
      " [1.00e-03 1.00e-04 8.80e-01]\n",
      " [1.00e-03 1.00e-05 8.80e-01]\n",
      " [1.00e-03 1.00e-06 8.80e-01]\n",
      " [1.00e-04 1.00e-04 8.80e-01]\n",
      " [1.00e-04 1.00e-05 8.80e-01]\n",
      " [1.00e-04 1.00e-06 8.80e-01]\n",
      " [1.00e-05 1.00e-04 8.80e-01]\n",
      " [1.00e-05 1.00e-05 8.80e-01]\n",
      " [1.00e-05 1.00e-06 8.80e-01]]\n",
      "Loss: 2.187675, Train accuracy: 0.237111, val accuracy: 0.232000\n",
      "Loss: 2.002908, Train accuracy: 0.296222, val accuracy: 0.295000\n",
      "Loss: 1.889504, Train accuracy: 0.352222, val accuracy: 0.360000\n",
      "Loss: 1.821131, Train accuracy: 0.436889, val accuracy: 0.429000\n",
      "Loss: 1.869613, Train accuracy: 0.498111, val accuracy: 0.493000\n",
      "Loss: 1.625593, Train accuracy: 0.547000, val accuracy: 0.536000\n",
      "Loss: 1.596463, Train accuracy: 0.594556, val accuracy: 0.565000\n",
      "Loss: 1.311887, Train accuracy: 0.619667, val accuracy: 0.615000\n",
      "Loss: 0.995470, Train accuracy: 0.638444, val accuracy: 0.610000\n",
      "Loss: 1.036347, Train accuracy: 0.651000, val accuracy: 0.623000\n",
      "Loss: 1.154150, Train accuracy: 0.670222, val accuracy: 0.646000\n",
      "Loss: 1.005023, Train accuracy: 0.681111, val accuracy: 0.652000\n",
      "Loss: 1.245094, Train accuracy: 0.697556, val accuracy: 0.680000\n",
      "Loss: 0.949505, Train accuracy: 0.703222, val accuracy: 0.684000\n",
      "Loss: 1.078763, Train accuracy: 0.709444, val accuracy: 0.683000\n",
      "Loss: 1.092139, Train accuracy: 0.714778, val accuracy: 0.698000\n",
      "Loss: 0.921300, Train accuracy: 0.729667, val accuracy: 0.700000\n",
      "Loss: 1.044141, Train accuracy: 0.738333, val accuracy: 0.705000\n",
      "Loss: 0.882231, Train accuracy: 0.746667, val accuracy: 0.705000\n",
      "Loss: 0.701726, Train accuracy: 0.750556, val accuracy: 0.704000\n",
      "Loss: 2.064025, Train accuracy: 0.228889, val accuracy: 0.238000\n",
      "Loss: 1.916496, Train accuracy: 0.260889, val accuracy: 0.276000\n",
      "Loss: 2.247881, Train accuracy: 0.331333, val accuracy: 0.343000\n",
      "Loss: 1.796020, Train accuracy: 0.412889, val accuracy: 0.427000\n",
      "Loss: 1.836424, Train accuracy: 0.485111, val accuracy: 0.483000\n",
      "Loss: 1.718891, Train accuracy: 0.530778, val accuracy: 0.520000\n",
      "Loss: 1.435848, Train accuracy: 0.586111, val accuracy: 0.563000\n",
      "Loss: 1.398284, Train accuracy: 0.608556, val accuracy: 0.588000\n",
      "Loss: 1.595377, Train accuracy: 0.638333, val accuracy: 0.624000\n",
      "Loss: 1.092566, Train accuracy: 0.653444, val accuracy: 0.637000\n",
      "Loss: 1.489911, Train accuracy: 0.667111, val accuracy: 0.652000\n",
      "Loss: 1.300638, Train accuracy: 0.676778, val accuracy: 0.666000\n",
      "Loss: 1.258799, Train accuracy: 0.695111, val accuracy: 0.677000\n",
      "Loss: 1.633449, Train accuracy: 0.706778, val accuracy: 0.678000\n",
      "Loss: 0.779604, Train accuracy: 0.716889, val accuracy: 0.693000\n",
      "Loss: 0.890154, Train accuracy: 0.723667, val accuracy: 0.691000\n",
      "Loss: 1.341225, Train accuracy: 0.722111, val accuracy: 0.699000\n",
      "Loss: 0.809465, Train accuracy: 0.738667, val accuracy: 0.708000\n",
      "Loss: 0.832527, Train accuracy: 0.742556, val accuracy: 0.712000\n",
      "Loss: 0.979031, Train accuracy: 0.746222, val accuracy: 0.703000\n",
      "Loss: 2.085293, Train accuracy: 0.228333, val accuracy: 0.233000\n",
      "Loss: 2.169670, Train accuracy: 0.276333, val accuracy: 0.274000\n",
      "Loss: 2.086011, Train accuracy: 0.357333, val accuracy: 0.375000\n",
      "Loss: 2.120664, Train accuracy: 0.437000, val accuracy: 0.445000\n",
      "Loss: 1.466757, Train accuracy: 0.499444, val accuracy: 0.499000\n",
      "Loss: 1.640229, Train accuracy: 0.555889, val accuracy: 0.544000\n",
      "Loss: 1.383416, Train accuracy: 0.591444, val accuracy: 0.573000\n",
      "Loss: 1.115261, Train accuracy: 0.615667, val accuracy: 0.595000\n",
      "Loss: 1.392914, Train accuracy: 0.632000, val accuracy: 0.602000\n",
      "Loss: 1.169789, Train accuracy: 0.650222, val accuracy: 0.631000\n",
      "Loss: 1.034554, Train accuracy: 0.670889, val accuracy: 0.650000\n",
      "Loss: 1.151545, Train accuracy: 0.683444, val accuracy: 0.657000\n",
      "Loss: 1.227278, Train accuracy: 0.693556, val accuracy: 0.672000\n",
      "Loss: 1.305526, Train accuracy: 0.706778, val accuracy: 0.689000\n",
      "Loss: 1.192865, Train accuracy: 0.715000, val accuracy: 0.690000\n",
      "Loss: 0.725279, Train accuracy: 0.721222, val accuracy: 0.705000\n",
      "Loss: 1.225717, Train accuracy: 0.727667, val accuracy: 0.703000\n",
      "Loss: 1.095574, Train accuracy: 0.739222, val accuracy: 0.708000\n",
      "Loss: 1.061763, Train accuracy: 0.740667, val accuracy: 0.704000\n",
      "Loss: 1.121219, Train accuracy: 0.747222, val accuracy: 0.713000\n",
      "Loss: 2.282153, Train accuracy: 0.178222, val accuracy: 0.177000\n",
      "Loss: 2.206164, Train accuracy: 0.195111, val accuracy: 0.201000\n",
      "Loss: 2.268444, Train accuracy: 0.200889, val accuracy: 0.203000\n",
      "Loss: 2.255203, Train accuracy: 0.202889, val accuracy: 0.206000\n",
      "Loss: 2.159084, Train accuracy: 0.206556, val accuracy: 0.210000\n",
      "Loss: 2.137996, Train accuracy: 0.210333, val accuracy: 0.213000\n",
      "Loss: 2.268221, Train accuracy: 0.213667, val accuracy: 0.218000\n",
      "Loss: 2.112733, Train accuracy: 0.216444, val accuracy: 0.220000\n",
      "Loss: 2.273445, Train accuracy: 0.220556, val accuracy: 0.226000\n",
      "Loss: 2.206339, Train accuracy: 0.224333, val accuracy: 0.230000\n",
      "Loss: 2.095010, Train accuracy: 0.229222, val accuracy: 0.234000\n",
      "Loss: 2.108132, Train accuracy: 0.231889, val accuracy: 0.241000\n",
      "Loss: 2.159697, Train accuracy: 0.236667, val accuracy: 0.242000\n",
      "Loss: 2.110855, Train accuracy: 0.243333, val accuracy: 0.246000\n",
      "Loss: 2.039487, Train accuracy: 0.251222, val accuracy: 0.250000\n",
      "Loss: 2.041348, Train accuracy: 0.257444, val accuracy: 0.265000\n",
      "Loss: 2.132091, Train accuracy: 0.264222, val accuracy: 0.277000\n",
      "Loss: 2.193033, Train accuracy: 0.270667, val accuracy: 0.286000\n",
      "Loss: 2.239553, Train accuracy: 0.278444, val accuracy: 0.296000\n",
      "Loss: 2.051242, Train accuracy: 0.287667, val accuracy: 0.302000\n",
      "Loss: 2.285950, Train accuracy: 0.181556, val accuracy: 0.178000\n",
      "Loss: 2.277518, Train accuracy: 0.200222, val accuracy: 0.209000\n",
      "Loss: 2.342614, Train accuracy: 0.205444, val accuracy: 0.216000\n",
      "Loss: 2.071533, Train accuracy: 0.212889, val accuracy: 0.224000\n",
      "Loss: 2.077137, Train accuracy: 0.214889, val accuracy: 0.219000\n",
      "Loss: 2.229884, Train accuracy: 0.220333, val accuracy: 0.224000\n",
      "Loss: 2.237579, Train accuracy: 0.220667, val accuracy: 0.226000\n",
      "Loss: 2.185788, Train accuracy: 0.224111, val accuracy: 0.228000\n",
      "Loss: 2.139989, Train accuracy: 0.228000, val accuracy: 0.234000\n",
      "Loss: 2.240773, Train accuracy: 0.232778, val accuracy: 0.239000\n",
      "Loss: 2.130731, Train accuracy: 0.237333, val accuracy: 0.243000\n",
      "Loss: 2.324974, Train accuracy: 0.244444, val accuracy: 0.249000\n",
      "Loss: 2.018833, Train accuracy: 0.251556, val accuracy: 0.258000\n",
      "Loss: 2.035645, Train accuracy: 0.255889, val accuracy: 0.261000\n",
      "Loss: 2.142323, Train accuracy: 0.264889, val accuracy: 0.266000\n",
      "Loss: 1.972174, Train accuracy: 0.271111, val accuracy: 0.277000\n",
      "Loss: 2.310354, Train accuracy: 0.279222, val accuracy: 0.287000\n",
      "Loss: 2.092109, Train accuracy: 0.285222, val accuracy: 0.296000\n",
      "Loss: 1.789186, Train accuracy: 0.294889, val accuracy: 0.303000\n",
      "Loss: 2.119283, Train accuracy: 0.303444, val accuracy: 0.317000\n",
      "Loss: 2.206356, Train accuracy: 0.172778, val accuracy: 0.173000\n",
      "Loss: 2.274797, Train accuracy: 0.194333, val accuracy: 0.197000\n",
      "Loss: 2.257532, Train accuracy: 0.201333, val accuracy: 0.209000\n",
      "Loss: 2.203598, Train accuracy: 0.205444, val accuracy: 0.210000\n",
      "Loss: 2.209668, Train accuracy: 0.209111, val accuracy: 0.216000\n",
      "Loss: 2.174302, Train accuracy: 0.213889, val accuracy: 0.221000\n",
      "Loss: 2.324610, Train accuracy: 0.220333, val accuracy: 0.227000\n",
      "Loss: 2.200677, Train accuracy: 0.222889, val accuracy: 0.228000\n",
      "Loss: 2.227580, Train accuracy: 0.227000, val accuracy: 0.236000\n",
      "Loss: 2.118663, Train accuracy: 0.230889, val accuracy: 0.241000\n",
      "Loss: 2.102421, Train accuracy: 0.236000, val accuracy: 0.247000\n",
      "Loss: 2.109971, Train accuracy: 0.239000, val accuracy: 0.245000\n",
      "Loss: 2.135545, Train accuracy: 0.246222, val accuracy: 0.255000\n",
      "Loss: 2.146193, Train accuracy: 0.249222, val accuracy: 0.256000\n"
     ]
    },
    {
     "name": "stdout",
     "output_type": "stream",
     "text": [
      "Loss: 2.164196, Train accuracy: 0.257667, val accuracy: 0.260000\n",
      "Loss: 2.247411, Train accuracy: 0.264111, val accuracy: 0.271000\n",
      "Loss: 1.947980, Train accuracy: 0.271778, val accuracy: 0.279000\n",
      "Loss: 1.976874, Train accuracy: 0.281000, val accuracy: 0.287000\n",
      "Loss: 1.969848, Train accuracy: 0.288889, val accuracy: 0.294000\n",
      "Loss: 2.056011, Train accuracy: 0.293778, val accuracy: 0.297000\n",
      "Loss: 2.241863, Train accuracy: 0.183556, val accuracy: 0.196000\n",
      "Loss: 2.337257, Train accuracy: 0.186556, val accuracy: 0.197000\n",
      "Loss: 2.374602, Train accuracy: 0.191000, val accuracy: 0.201000\n",
      "Loss: 2.336658, Train accuracy: 0.195111, val accuracy: 0.200000\n",
      "Loss: 2.291668, Train accuracy: 0.195778, val accuracy: 0.206000\n",
      "Loss: 2.262613, Train accuracy: 0.196222, val accuracy: 0.203000\n",
      "Loss: 2.291003, Train accuracy: 0.194889, val accuracy: 0.205000\n",
      "Loss: 2.230081, Train accuracy: 0.195889, val accuracy: 0.204000\n",
      "Loss: 2.251647, Train accuracy: 0.196000, val accuracy: 0.203000\n",
      "Loss: 2.271598, Train accuracy: 0.196222, val accuracy: 0.202000\n",
      "Loss: 2.294867, Train accuracy: 0.196222, val accuracy: 0.204000\n",
      "Loss: 2.143512, Train accuracy: 0.197222, val accuracy: 0.203000\n",
      "Loss: 2.175619, Train accuracy: 0.197778, val accuracy: 0.204000\n",
      "Loss: 2.173450, Train accuracy: 0.198333, val accuracy: 0.204000\n",
      "Loss: 2.313835, Train accuracy: 0.198333, val accuracy: 0.203000\n",
      "Loss: 2.106271, Train accuracy: 0.198556, val accuracy: 0.204000\n",
      "Loss: 2.182702, Train accuracy: 0.198222, val accuracy: 0.204000\n",
      "Loss: 2.274246, Train accuracy: 0.198556, val accuracy: 0.204000\n",
      "Loss: 2.380044, Train accuracy: 0.198556, val accuracy: 0.204000\n",
      "Loss: 2.221833, Train accuracy: 0.198444, val accuracy: 0.205000\n",
      "Loss: 2.315184, Train accuracy: 0.090444, val accuracy: 0.090000\n",
      "Loss: 2.339555, Train accuracy: 0.099556, val accuracy: 0.100000\n",
      "Loss: 2.277326, Train accuracy: 0.108111, val accuracy: 0.104000\n",
      "Loss: 2.301881, Train accuracy: 0.119111, val accuracy: 0.117000\n",
      "Loss: 2.313438, Train accuracy: 0.130111, val accuracy: 0.123000\n",
      "Loss: 2.318186, Train accuracy: 0.141333, val accuracy: 0.138000\n",
      "Loss: 2.265274, Train accuracy: 0.148667, val accuracy: 0.144000\n",
      "Loss: 2.283085, Train accuracy: 0.155778, val accuracy: 0.153000\n",
      "Loss: 2.271482, Train accuracy: 0.163889, val accuracy: 0.159000\n",
      "Loss: 2.263354, Train accuracy: 0.167222, val accuracy: 0.165000\n",
      "Loss: 2.289901, Train accuracy: 0.171778, val accuracy: 0.169000\n",
      "Loss: 2.317069, Train accuracy: 0.176667, val accuracy: 0.170000\n",
      "Loss: 2.217197, Train accuracy: 0.181556, val accuracy: 0.175000\n",
      "Loss: 2.298793, Train accuracy: 0.183556, val accuracy: 0.178000\n",
      "Loss: 2.253208, Train accuracy: 0.184778, val accuracy: 0.178000\n",
      "Loss: 2.224570, Train accuracy: 0.186333, val accuracy: 0.183000\n",
      "Loss: 2.248931, Train accuracy: 0.189000, val accuracy: 0.180000\n",
      "Loss: 2.285821, Train accuracy: 0.189444, val accuracy: 0.183000\n",
      "Loss: 2.278544, Train accuracy: 0.191444, val accuracy: 0.183000\n",
      "Loss: 2.311649, Train accuracy: 0.193333, val accuracy: 0.188000\n",
      "Loss: 2.300652, Train accuracy: 0.106889, val accuracy: 0.131000\n",
      "Loss: 2.278333, Train accuracy: 0.112889, val accuracy: 0.138000\n",
      "Loss: 2.340214, Train accuracy: 0.117778, val accuracy: 0.148000\n",
      "Loss: 2.292846, Train accuracy: 0.125667, val accuracy: 0.153000\n",
      "Loss: 2.302217, Train accuracy: 0.132778, val accuracy: 0.151000\n",
      "Loss: 2.316718, Train accuracy: 0.139444, val accuracy: 0.154000\n",
      "Loss: 2.306899, Train accuracy: 0.144000, val accuracy: 0.155000\n",
      "Loss: 2.273342, Train accuracy: 0.152222, val accuracy: 0.164000\n",
      "Loss: 2.352514, Train accuracy: 0.161556, val accuracy: 0.172000\n",
      "Loss: 2.222375, Train accuracy: 0.168889, val accuracy: 0.183000\n",
      "Loss: 2.257001, Train accuracy: 0.174889, val accuracy: 0.180000\n",
      "Loss: 2.231413, Train accuracy: 0.179444, val accuracy: 0.183000\n",
      "Loss: 2.323397, Train accuracy: 0.186111, val accuracy: 0.189000\n",
      "Loss: 2.203348, Train accuracy: 0.188778, val accuracy: 0.187000\n",
      "Loss: 2.200092, Train accuracy: 0.187000, val accuracy: 0.187000\n",
      "Loss: 2.300706, Train accuracy: 0.189556, val accuracy: 0.189000\n",
      "Loss: 2.269215, Train accuracy: 0.191000, val accuracy: 0.184000\n",
      "Loss: 2.190939, Train accuracy: 0.194333, val accuracy: 0.186000\n",
      "Loss: 2.218767, Train accuracy: 0.195556, val accuracy: 0.193000\n",
      "Loss: 2.234045, Train accuracy: 0.199556, val accuracy: 0.197000\n",
      "Loss: 2.110520, Train accuracy: 0.244333, val accuracy: 0.247000\n",
      "Loss: 2.020768, Train accuracy: 0.273556, val accuracy: 0.274000\n",
      "Loss: 1.860657, Train accuracy: 0.330333, val accuracy: 0.330000\n",
      "Loss: 1.821182, Train accuracy: 0.388000, val accuracy: 0.390000\n",
      "Loss: 2.005803, Train accuracy: 0.425889, val accuracy: 0.430000\n",
      "Loss: 1.886278, Train accuracy: 0.468444, val accuracy: 0.470000\n",
      "Loss: 1.929129, Train accuracy: 0.510000, val accuracy: 0.504000\n",
      "Loss: 1.458709, Train accuracy: 0.537556, val accuracy: 0.524000\n",
      "Loss: 1.720658, Train accuracy: 0.559667, val accuracy: 0.546000\n",
      "Loss: 1.543725, Train accuracy: 0.570333, val accuracy: 0.547000\n",
      "Loss: 1.256674, Train accuracy: 0.583333, val accuracy: 0.564000\n",
      "Loss: 1.423693, Train accuracy: 0.597222, val accuracy: 0.584000\n",
      "Loss: 1.500038, Train accuracy: 0.605667, val accuracy: 0.588000\n",
      "Loss: 1.458066, Train accuracy: 0.614000, val accuracy: 0.596000\n",
      "Loss: 1.444908, Train accuracy: 0.622222, val accuracy: 0.602000\n",
      "Loss: 1.400935, Train accuracy: 0.624333, val accuracy: 0.606000\n",
      "Loss: 1.567107, Train accuracy: 0.628444, val accuracy: 0.607000\n",
      "Loss: 1.385634, Train accuracy: 0.635222, val accuracy: 0.615000\n",
      "Loss: 1.084658, Train accuracy: 0.639667, val accuracy: 0.612000\n",
      "Loss: 1.487669, Train accuracy: 0.641222, val accuracy: 0.613000\n",
      "Loss: 2.215295, Train accuracy: 0.228667, val accuracy: 0.230000\n",
      "Loss: 2.132176, Train accuracy: 0.272000, val accuracy: 0.274000\n",
      "Loss: 1.939376, Train accuracy: 0.334111, val accuracy: 0.347000\n",
      "Loss: 1.656610, Train accuracy: 0.404556, val accuracy: 0.405000\n",
      "Loss: 1.666169, Train accuracy: 0.449778, val accuracy: 0.454000\n",
      "Loss: 1.713738, Train accuracy: 0.491444, val accuracy: 0.485000\n",
      "Loss: 1.418077, Train accuracy: 0.530667, val accuracy: 0.510000\n",
      "Loss: 1.418711, Train accuracy: 0.555000, val accuracy: 0.541000\n",
      "Loss: 1.604644, Train accuracy: 0.574778, val accuracy: 0.564000\n",
      "Loss: 1.187670, Train accuracy: 0.592000, val accuracy: 0.568000\n",
      "Loss: 1.055009, Train accuracy: 0.599889, val accuracy: 0.581000\n",
      "Loss: 1.266180, Train accuracy: 0.613778, val accuracy: 0.591000\n",
      "Loss: 1.663286, Train accuracy: 0.624000, val accuracy: 0.608000\n",
      "Loss: 1.340377, Train accuracy: 0.630333, val accuracy: 0.615000\n",
      "Loss: 1.101686, Train accuracy: 0.635000, val accuracy: 0.621000\n",
      "Loss: 1.444196, Train accuracy: 0.642111, val accuracy: 0.618000\n",
      "Loss: 1.083525, Train accuracy: 0.642889, val accuracy: 0.625000\n",
      "Loss: 1.299926, Train accuracy: 0.645444, val accuracy: 0.629000\n",
      "Loss: 1.410374, Train accuracy: 0.648222, val accuracy: 0.629000\n",
      "Loss: 0.918264, Train accuracy: 0.651778, val accuracy: 0.634000\n",
      "Loss: 2.362761, Train accuracy: 0.223333, val accuracy: 0.232000\n",
      "Loss: 2.148482, Train accuracy: 0.278667, val accuracy: 0.284000\n",
      "Loss: 2.020536, Train accuracy: 0.352778, val accuracy: 0.368000\n",
      "Loss: 1.804912, Train accuracy: 0.401778, val accuracy: 0.412000\n",
      "Loss: 1.916273, Train accuracy: 0.450222, val accuracy: 0.456000\n",
      "Loss: 1.509932, Train accuracy: 0.496333, val accuracy: 0.495000\n",
      "Loss: 1.690499, Train accuracy: 0.524333, val accuracy: 0.514000\n",
      "Loss: 1.731397, Train accuracy: 0.552000, val accuracy: 0.539000\n",
      "Loss: 1.530020, Train accuracy: 0.571222, val accuracy: 0.551000\n",
      "Loss: 1.234563, Train accuracy: 0.591000, val accuracy: 0.575000\n",
      "Loss: 1.602747, Train accuracy: 0.602889, val accuracy: 0.585000\n",
      "Loss: 1.405251, Train accuracy: 0.612889, val accuracy: 0.592000\n",
      "Loss: 1.313637, Train accuracy: 0.622222, val accuracy: 0.606000\n",
      "Loss: 1.014977, Train accuracy: 0.628111, val accuracy: 0.606000\n",
      "Loss: 1.276610, Train accuracy: 0.638333, val accuracy: 0.612000\n",
      "Loss: 1.354282, Train accuracy: 0.639556, val accuracy: 0.623000\n",
      "Loss: 1.538783, Train accuracy: 0.644444, val accuracy: 0.624000\n",
      "Loss: 1.465729, Train accuracy: 0.649000, val accuracy: 0.626000\n",
      "Loss: 0.954071, Train accuracy: 0.651667, val accuracy: 0.629000\n",
      "Loss: 1.155042, Train accuracy: 0.654111, val accuracy: 0.633000\n",
      "Loss: 2.307492, Train accuracy: 0.162889, val accuracy: 0.148000\n"
     ]
    },
    {
     "name": "stdout",
     "output_type": "stream",
     "text": [
      "Loss: 2.287567, Train accuracy: 0.197778, val accuracy: 0.187000\n",
      "Loss: 2.214853, Train accuracy: 0.209333, val accuracy: 0.203000\n",
      "Loss: 2.274580, Train accuracy: 0.215222, val accuracy: 0.212000\n",
      "Loss: 2.322968, Train accuracy: 0.220000, val accuracy: 0.221000\n",
      "Loss: 2.148816, Train accuracy: 0.223667, val accuracy: 0.225000\n",
      "Loss: 2.263555, Train accuracy: 0.224778, val accuracy: 0.226000\n",
      "Loss: 2.178193, Train accuracy: 0.227889, val accuracy: 0.229000\n",
      "Loss: 2.134751, Train accuracy: 0.229556, val accuracy: 0.232000\n",
      "Loss: 2.133743, Train accuracy: 0.229000, val accuracy: 0.230000\n",
      "Loss: 2.204430, Train accuracy: 0.229889, val accuracy: 0.236000\n",
      "Loss: 2.257819, Train accuracy: 0.230889, val accuracy: 0.237000\n",
      "Loss: 2.110376, Train accuracy: 0.233778, val accuracy: 0.237000\n",
      "Loss: 2.302423, Train accuracy: 0.234333, val accuracy: 0.237000\n",
      "Loss: 2.096431, Train accuracy: 0.235222, val accuracy: 0.238000\n",
      "Loss: 2.125552, Train accuracy: 0.235222, val accuracy: 0.239000\n",
      "Loss: 2.190429, Train accuracy: 0.235889, val accuracy: 0.240000\n",
      "Loss: 2.022732, Train accuracy: 0.235667, val accuracy: 0.241000\n",
      "Loss: 2.311762, Train accuracy: 0.236222, val accuracy: 0.241000\n",
      "Loss: 2.285221, Train accuracy: 0.236556, val accuracy: 0.242000\n",
      "Loss: 2.308620, Train accuracy: 0.189000, val accuracy: 0.197000\n",
      "Loss: 2.225819, Train accuracy: 0.199222, val accuracy: 0.206000\n",
      "Loss: 2.227761, Train accuracy: 0.204000, val accuracy: 0.210000\n",
      "Loss: 2.351284, Train accuracy: 0.206444, val accuracy: 0.211000\n",
      "Loss: 2.251801, Train accuracy: 0.210111, val accuracy: 0.218000\n",
      "Loss: 2.173853, Train accuracy: 0.214444, val accuracy: 0.223000\n",
      "Loss: 2.208178, Train accuracy: 0.217222, val accuracy: 0.224000\n",
      "Loss: 2.185085, Train accuracy: 0.219444, val accuracy: 0.225000\n",
      "Loss: 2.230676, Train accuracy: 0.221000, val accuracy: 0.227000\n",
      "Loss: 2.139233, Train accuracy: 0.222556, val accuracy: 0.228000\n",
      "Loss: 2.287112, Train accuracy: 0.223556, val accuracy: 0.231000\n",
      "Loss: 2.203081, Train accuracy: 0.224889, val accuracy: 0.232000\n",
      "Loss: 2.200968, Train accuracy: 0.226111, val accuracy: 0.232000\n",
      "Loss: 2.102183, Train accuracy: 0.226778, val accuracy: 0.234000\n",
      "Loss: 2.278142, Train accuracy: 0.227778, val accuracy: 0.235000\n",
      "Loss: 2.259965, Train accuracy: 0.228889, val accuracy: 0.238000\n",
      "Loss: 2.173383, Train accuracy: 0.229444, val accuracy: 0.238000\n",
      "Loss: 2.178191, Train accuracy: 0.230222, val accuracy: 0.238000\n",
      "Loss: 2.125124, Train accuracy: 0.231222, val accuracy: 0.240000\n",
      "Loss: 2.042179, Train accuracy: 0.232667, val accuracy: 0.240000\n",
      "Loss: 2.270843, Train accuracy: 0.160333, val accuracy: 0.171000\n",
      "Loss: 2.119292, Train accuracy: 0.187000, val accuracy: 0.200000\n",
      "Loss: 2.203820, Train accuracy: 0.200889, val accuracy: 0.218000\n",
      "Loss: 2.223811, Train accuracy: 0.209889, val accuracy: 0.233000\n",
      "Loss: 2.216194, Train accuracy: 0.218556, val accuracy: 0.242000\n",
      "Loss: 2.164056, Train accuracy: 0.221667, val accuracy: 0.243000\n",
      "Loss: 2.247746, Train accuracy: 0.224778, val accuracy: 0.244000\n",
      "Loss: 2.131556, Train accuracy: 0.227889, val accuracy: 0.240000\n",
      "Loss: 2.325725, Train accuracy: 0.229889, val accuracy: 0.238000\n",
      "Loss: 2.253007, Train accuracy: 0.232222, val accuracy: 0.242000\n",
      "Loss: 2.048704, Train accuracy: 0.232778, val accuracy: 0.242000\n",
      "Loss: 2.072159, Train accuracy: 0.233556, val accuracy: 0.242000\n",
      "Loss: 2.284831, Train accuracy: 0.234444, val accuracy: 0.242000\n",
      "Loss: 2.200463, Train accuracy: 0.235222, val accuracy: 0.244000\n",
      "Loss: 2.256706, Train accuracy: 0.235667, val accuracy: 0.244000\n",
      "Loss: 2.121734, Train accuracy: 0.236444, val accuracy: 0.245000\n",
      "Loss: 2.054032, Train accuracy: 0.237111, val accuracy: 0.244000\n",
      "Loss: 2.202864, Train accuracy: 0.238111, val accuracy: 0.245000\n",
      "Loss: 2.101848, Train accuracy: 0.238444, val accuracy: 0.246000\n",
      "Loss: 2.344010, Train accuracy: 0.239111, val accuracy: 0.246000\n",
      "Loss: 2.345469, Train accuracy: 0.102889, val accuracy: 0.106000\n",
      "Loss: 2.310413, Train accuracy: 0.111111, val accuracy: 0.114000\n",
      "Loss: 2.262113, Train accuracy: 0.117667, val accuracy: 0.116000\n",
      "Loss: 2.287149, Train accuracy: 0.124667, val accuracy: 0.123000\n",
      "Loss: 2.253968, Train accuracy: 0.128444, val accuracy: 0.125000\n",
      "Loss: 2.328920, Train accuracy: 0.132556, val accuracy: 0.133000\n",
      "Loss: 2.278043, Train accuracy: 0.137111, val accuracy: 0.135000\n",
      "Loss: 2.302999, Train accuracy: 0.139333, val accuracy: 0.134000\n",
      "Loss: 2.202351, Train accuracy: 0.141333, val accuracy: 0.135000\n",
      "Loss: 2.308973, Train accuracy: 0.143778, val accuracy: 0.140000\n",
      "Loss: 2.265859, Train accuracy: 0.147111, val accuracy: 0.144000\n",
      "Loss: 2.246883, Train accuracy: 0.149111, val accuracy: 0.147000\n",
      "Loss: 2.254663, Train accuracy: 0.151000, val accuracy: 0.154000\n",
      "Loss: 2.287900, Train accuracy: 0.153667, val accuracy: 0.159000\n",
      "Loss: 2.250534, Train accuracy: 0.154333, val accuracy: 0.161000\n",
      "Loss: 2.248178, Train accuracy: 0.157000, val accuracy: 0.164000\n",
      "Loss: 2.286419, Train accuracy: 0.158778, val accuracy: 0.169000\n",
      "Loss: 2.288812, Train accuracy: 0.160667, val accuracy: 0.169000\n",
      "Loss: 2.249370, Train accuracy: 0.161222, val accuracy: 0.167000\n",
      "Loss: 2.276352, Train accuracy: 0.162889, val accuracy: 0.169000\n",
      "Loss: 2.306100, Train accuracy: 0.159889, val accuracy: 0.177000\n",
      "Loss: 2.247877, Train accuracy: 0.169889, val accuracy: 0.187000\n",
      "Loss: 2.308534, Train accuracy: 0.177667, val accuracy: 0.193000\n",
      "Loss: 2.325443, Train accuracy: 0.181889, val accuracy: 0.192000\n",
      "Loss: 2.253586, Train accuracy: 0.183222, val accuracy: 0.196000\n",
      "Loss: 2.296133, Train accuracy: 0.185778, val accuracy: 0.195000\n",
      "Loss: 2.286511, Train accuracy: 0.186556, val accuracy: 0.200000\n",
      "Loss: 2.277765, Train accuracy: 0.188556, val accuracy: 0.201000\n",
      "Loss: 2.263636, Train accuracy: 0.190556, val accuracy: 0.203000\n",
      "Loss: 2.326422, Train accuracy: 0.191889, val accuracy: 0.205000\n",
      "Loss: 2.272583, Train accuracy: 0.192222, val accuracy: 0.206000\n",
      "Loss: 2.300873, Train accuracy: 0.193333, val accuracy: 0.205000\n",
      "Loss: 2.283851, Train accuracy: 0.194111, val accuracy: 0.206000\n",
      "Loss: 2.198761, Train accuracy: 0.194778, val accuracy: 0.205000\n",
      "Loss: 2.230917, Train accuracy: 0.195000, val accuracy: 0.204000\n",
      "Loss: 2.219839, Train accuracy: 0.195556, val accuracy: 0.204000\n",
      "Loss: 2.252087, Train accuracy: 0.195444, val accuracy: 0.204000\n",
      "Loss: 2.275579, Train accuracy: 0.195667, val accuracy: 0.204000\n",
      "Loss: 2.302602, Train accuracy: 0.195444, val accuracy: 0.205000\n",
      "Loss: 2.344134, Train accuracy: 0.195889, val accuracy: 0.205000\n",
      "Loss: 2.351651, Train accuracy: 0.088111, val accuracy: 0.085000\n",
      "Loss: 2.289271, Train accuracy: 0.102778, val accuracy: 0.093000\n",
      "Loss: 2.291712, Train accuracy: 0.114889, val accuracy: 0.112000\n",
      "Loss: 2.301423, Train accuracy: 0.123556, val accuracy: 0.127000\n",
      "Loss: 2.293555, Train accuracy: 0.130667, val accuracy: 0.135000\n",
      "Loss: 2.273144, Train accuracy: 0.138444, val accuracy: 0.136000\n",
      "Loss: 2.274601, Train accuracy: 0.143444, val accuracy: 0.141000\n",
      "Loss: 2.300712, Train accuracy: 0.149000, val accuracy: 0.149000\n",
      "Loss: 2.261415, Train accuracy: 0.153444, val accuracy: 0.161000\n",
      "Loss: 2.288049, Train accuracy: 0.157000, val accuracy: 0.167000\n",
      "Loss: 2.345319, Train accuracy: 0.160667, val accuracy: 0.169000\n",
      "Loss: 2.283876, Train accuracy: 0.164667, val accuracy: 0.173000\n",
      "Loss: 2.260428, Train accuracy: 0.168000, val accuracy: 0.176000\n",
      "Loss: 2.256576, Train accuracy: 0.169556, val accuracy: 0.178000\n",
      "Loss: 2.227700, Train accuracy: 0.170111, val accuracy: 0.180000\n",
      "Loss: 2.243350, Train accuracy: 0.171333, val accuracy: 0.178000\n",
      "Loss: 2.308675, Train accuracy: 0.173333, val accuracy: 0.182000\n",
      "Loss: 2.203417, Train accuracy: 0.173556, val accuracy: 0.183000\n",
      "Loss: 2.245640, Train accuracy: 0.174111, val accuracy: 0.183000\n",
      "Loss: 2.262185, Train accuracy: 0.174778, val accuracy: 0.184000\n",
      "Loss: 2.094414, Train accuracy: 0.229222, val accuracy: 0.236000\n",
      "Loss: 2.087447, Train accuracy: 0.271667, val accuracy: 0.282000\n",
      "Loss: 2.153429, Train accuracy: 0.320444, val accuracy: 0.336000\n",
      "Loss: 1.474792, Train accuracy: 0.379556, val accuracy: 0.391000\n",
      "Loss: 1.995613, Train accuracy: 0.430000, val accuracy: 0.442000\n",
      "Loss: 1.567373, Train accuracy: 0.467333, val accuracy: 0.487000\n",
      "Loss: 1.526490, Train accuracy: 0.509444, val accuracy: 0.511000\n",
      "Loss: 1.448442, Train accuracy: 0.532000, val accuracy: 0.538000\n"
     ]
    },
    {
     "name": "stdout",
     "output_type": "stream",
     "text": [
      "Loss: 1.455212, Train accuracy: 0.548222, val accuracy: 0.555000\n",
      "Loss: 1.568254, Train accuracy: 0.564111, val accuracy: 0.568000\n",
      "Loss: 1.496244, Train accuracy: 0.573778, val accuracy: 0.577000\n",
      "Loss: 1.456174, Train accuracy: 0.587222, val accuracy: 0.587000\n",
      "Loss: 1.391031, Train accuracy: 0.597778, val accuracy: 0.589000\n",
      "Loss: 1.699301, Train accuracy: 0.605111, val accuracy: 0.595000\n",
      "Loss: 1.224461, Train accuracy: 0.607556, val accuracy: 0.600000\n",
      "Loss: 1.932891, Train accuracy: 0.614778, val accuracy: 0.603000\n",
      "Loss: 1.143640, Train accuracy: 0.617778, val accuracy: 0.601000\n",
      "Loss: 1.316864, Train accuracy: 0.621000, val accuracy: 0.602000\n",
      "Loss: 1.371951, Train accuracy: 0.623667, val accuracy: 0.608000\n",
      "Loss: 1.595970, Train accuracy: 0.624667, val accuracy: 0.607000\n",
      "Loss: 2.260912, Train accuracy: 0.226111, val accuracy: 0.228000\n",
      "Loss: 2.047403, Train accuracy: 0.270778, val accuracy: 0.284000\n",
      "Loss: 1.604927, Train accuracy: 0.337333, val accuracy: 0.351000\n",
      "Loss: 1.727664, Train accuracy: 0.392333, val accuracy: 0.400000\n",
      "Loss: 1.553388, Train accuracy: 0.438889, val accuracy: 0.444000\n",
      "Loss: 1.631247, Train accuracy: 0.477444, val accuracy: 0.484000\n",
      "Loss: 1.655825, Train accuracy: 0.499000, val accuracy: 0.495000\n",
      "Loss: 1.626474, Train accuracy: 0.535778, val accuracy: 0.529000\n",
      "Loss: 1.510178, Train accuracy: 0.546667, val accuracy: 0.534000\n",
      "Loss: 1.396952, Train accuracy: 0.563444, val accuracy: 0.550000\n",
      "Loss: 1.484524, Train accuracy: 0.572444, val accuracy: 0.553000\n",
      "Loss: 1.277928, Train accuracy: 0.585333, val accuracy: 0.567000\n",
      "Loss: 1.331332, Train accuracy: 0.594222, val accuracy: 0.579000\n",
      "Loss: 1.704836, Train accuracy: 0.597778, val accuracy: 0.585000\n",
      "Loss: 1.372741, Train accuracy: 0.605333, val accuracy: 0.584000\n",
      "Loss: 1.198904, Train accuracy: 0.610000, val accuracy: 0.586000\n",
      "Loss: 1.260927, Train accuracy: 0.612222, val accuracy: 0.597000\n",
      "Loss: 1.689255, Train accuracy: 0.616556, val accuracy: 0.599000\n",
      "Loss: 1.321098, Train accuracy: 0.618111, val accuracy: 0.599000\n",
      "Loss: 1.526257, Train accuracy: 0.621111, val accuracy: 0.604000\n",
      "Loss: 2.122180, Train accuracy: 0.240444, val accuracy: 0.247000\n",
      "Loss: 1.838303, Train accuracy: 0.271444, val accuracy: 0.269000\n",
      "Loss: 2.123454, Train accuracy: 0.324889, val accuracy: 0.331000\n",
      "Loss: 2.080025, Train accuracy: 0.376000, val accuracy: 0.389000\n",
      "Loss: 1.825707, Train accuracy: 0.415556, val accuracy: 0.417000\n",
      "Loss: 1.651068, Train accuracy: 0.459444, val accuracy: 0.469000\n",
      "Loss: 2.008839, Train accuracy: 0.486000, val accuracy: 0.486000\n",
      "Loss: 1.765754, Train accuracy: 0.509111, val accuracy: 0.505000\n",
      "Loss: 1.554457, Train accuracy: 0.532333, val accuracy: 0.514000\n",
      "Loss: 1.489623, Train accuracy: 0.557222, val accuracy: 0.539000\n",
      "Loss: 1.292478, Train accuracy: 0.571889, val accuracy: 0.551000\n",
      "Loss: 1.423570, Train accuracy: 0.580222, val accuracy: 0.561000\n",
      "Loss: 1.512932, Train accuracy: 0.592333, val accuracy: 0.573000\n",
      "Loss: 1.358901, Train accuracy: 0.599222, val accuracy: 0.581000\n",
      "Loss: 1.462644, Train accuracy: 0.604222, val accuracy: 0.587000\n",
      "Loss: 1.528075, Train accuracy: 0.610333, val accuracy: 0.589000\n",
      "Loss: 1.530052, Train accuracy: 0.613111, val accuracy: 0.588000\n",
      "Loss: 1.264900, Train accuracy: 0.615667, val accuracy: 0.592000\n",
      "Loss: 1.431880, Train accuracy: 0.619222, val accuracy: 0.596000\n",
      "Loss: 1.342228, Train accuracy: 0.621444, val accuracy: 0.599000\n",
      "Loss: 2.262426, Train accuracy: 0.188889, val accuracy: 0.198000\n",
      "Loss: 2.235228, Train accuracy: 0.197667, val accuracy: 0.205000\n",
      "Loss: 2.378669, Train accuracy: 0.201333, val accuracy: 0.207000\n",
      "Loss: 2.234244, Train accuracy: 0.202667, val accuracy: 0.208000\n",
      "Loss: 2.227675, Train accuracy: 0.203778, val accuracy: 0.207000\n",
      "Loss: 2.276632, Train accuracy: 0.205222, val accuracy: 0.211000\n",
      "Loss: 2.249985, Train accuracy: 0.205778, val accuracy: 0.209000\n",
      "Loss: 2.205212, Train accuracy: 0.206222, val accuracy: 0.213000\n",
      "Loss: 2.097895, Train accuracy: 0.209000, val accuracy: 0.215000\n",
      "Loss: 2.309422, Train accuracy: 0.209667, val accuracy: 0.218000\n",
      "Loss: 1.934007, Train accuracy: 0.210333, val accuracy: 0.218000\n",
      "Loss: 2.100403, Train accuracy: 0.211444, val accuracy: 0.220000\n",
      "Loss: 2.038377, Train accuracy: 0.212444, val accuracy: 0.221000\n",
      "Loss: 2.025368, Train accuracy: 0.213444, val accuracy: 0.221000\n",
      "Loss: 2.185599, Train accuracy: 0.213778, val accuracy: 0.221000\n",
      "Loss: 2.146125, Train accuracy: 0.214222, val accuracy: 0.222000\n",
      "Loss: 2.204807, Train accuracy: 0.215111, val accuracy: 0.223000\n",
      "Loss: 2.383693, Train accuracy: 0.216000, val accuracy: 0.223000\n",
      "Loss: 2.243355, Train accuracy: 0.216556, val accuracy: 0.223000\n",
      "Loss: 2.191012, Train accuracy: 0.217222, val accuracy: 0.223000\n",
      "Loss: 2.253040, Train accuracy: 0.186667, val accuracy: 0.196000\n",
      "Loss: 2.271073, Train accuracy: 0.195000, val accuracy: 0.205000\n",
      "Loss: 2.144315, Train accuracy: 0.196778, val accuracy: 0.206000\n",
      "Loss: 2.367334, Train accuracy: 0.197444, val accuracy: 0.206000\n",
      "Loss: 2.152154, Train accuracy: 0.198778, val accuracy: 0.209000\n",
      "Loss: 2.220600, Train accuracy: 0.199333, val accuracy: 0.209000\n",
      "Loss: 2.185262, Train accuracy: 0.200333, val accuracy: 0.210000\n",
      "Loss: 2.283126, Train accuracy: 0.202333, val accuracy: 0.211000\n",
      "Loss: 2.309615, Train accuracy: 0.203444, val accuracy: 0.212000\n",
      "Loss: 2.230895, Train accuracy: 0.204667, val accuracy: 0.213000\n",
      "Loss: 2.201342, Train accuracy: 0.205111, val accuracy: 0.215000\n",
      "Loss: 2.151733, Train accuracy: 0.206111, val accuracy: 0.216000\n",
      "Loss: 2.172806, Train accuracy: 0.206333, val accuracy: 0.217000\n",
      "Loss: 2.058668, Train accuracy: 0.207000, val accuracy: 0.219000\n",
      "Loss: 2.125550, Train accuracy: 0.207667, val accuracy: 0.219000\n",
      "Loss: 2.143716, Train accuracy: 0.208333, val accuracy: 0.220000\n",
      "Loss: 2.234626, Train accuracy: 0.208778, val accuracy: 0.220000\n",
      "Loss: 2.190924, Train accuracy: 0.209111, val accuracy: 0.221000\n",
      "Loss: 2.161195, Train accuracy: 0.209000, val accuracy: 0.221000\n",
      "Loss: 2.127928, Train accuracy: 0.209556, val accuracy: 0.221000\n",
      "Loss: 2.257069, Train accuracy: 0.178333, val accuracy: 0.165000\n",
      "Loss: 2.224930, Train accuracy: 0.202667, val accuracy: 0.194000\n",
      "Loss: 2.188491, Train accuracy: 0.209333, val accuracy: 0.204000\n",
      "Loss: 2.106960, Train accuracy: 0.213111, val accuracy: 0.208000\n",
      "Loss: 2.272466, Train accuracy: 0.215111, val accuracy: 0.212000\n",
      "Loss: 2.382554, Train accuracy: 0.218444, val accuracy: 0.218000\n",
      "Loss: 2.316066, Train accuracy: 0.219000, val accuracy: 0.222000\n",
      "Loss: 2.206041, Train accuracy: 0.219667, val accuracy: 0.223000\n",
      "Loss: 2.234443, Train accuracy: 0.221000, val accuracy: 0.225000\n",
      "Loss: 1.922280, Train accuracy: 0.221889, val accuracy: 0.224000\n",
      "Loss: 2.052369, Train accuracy: 0.222333, val accuracy: 0.224000\n",
      "Loss: 2.252916, Train accuracy: 0.222667, val accuracy: 0.224000\n",
      "Loss: 2.070903, Train accuracy: 0.223444, val accuracy: 0.225000\n",
      "Loss: 2.212686, Train accuracy: 0.224222, val accuracy: 0.225000\n",
      "Loss: 2.247593, Train accuracy: 0.224556, val accuracy: 0.227000\n",
      "Loss: 2.134023, Train accuracy: 0.225111, val accuracy: 0.229000\n",
      "Loss: 2.093365, Train accuracy: 0.225333, val accuracy: 0.229000\n",
      "Loss: 2.290467, Train accuracy: 0.225556, val accuracy: 0.229000\n",
      "Loss: 2.104045, Train accuracy: 0.226222, val accuracy: 0.230000\n",
      "Loss: 2.120416, Train accuracy: 0.226222, val accuracy: 0.230000\n",
      "Loss: 2.302354, Train accuracy: 0.105000, val accuracy: 0.101000\n",
      "Loss: 2.307995, Train accuracy: 0.109778, val accuracy: 0.109000\n",
      "Loss: 2.300254, Train accuracy: 0.115000, val accuracy: 0.112000\n",
      "Loss: 2.298531, Train accuracy: 0.118556, val accuracy: 0.112000\n",
      "Loss: 2.309459, Train accuracy: 0.124444, val accuracy: 0.113000\n",
      "Loss: 2.391695, Train accuracy: 0.131111, val accuracy: 0.118000\n",
      "Loss: 2.312485, Train accuracy: 0.133333, val accuracy: 0.123000\n",
      "Loss: 2.287297, Train accuracy: 0.136667, val accuracy: 0.129000\n",
      "Loss: 2.318755, Train accuracy: 0.138444, val accuracy: 0.129000\n",
      "Loss: 2.283984, Train accuracy: 0.140778, val accuracy: 0.134000\n",
      "Loss: 2.285008, Train accuracy: 0.142333, val accuracy: 0.135000\n",
      "Loss: 2.263251, Train accuracy: 0.144778, val accuracy: 0.140000\n",
      "Loss: 2.298446, Train accuracy: 0.147000, val accuracy: 0.142000\n",
      "Loss: 2.212630, Train accuracy: 0.148556, val accuracy: 0.140000\n",
      "Loss: 2.314098, Train accuracy: 0.149889, val accuracy: 0.142000\n"
     ]
    },
    {
     "name": "stdout",
     "output_type": "stream",
     "text": [
      "Loss: 2.299848, Train accuracy: 0.151444, val accuracy: 0.141000\n",
      "Loss: 2.318161, Train accuracy: 0.153000, val accuracy: 0.142000\n",
      "Loss: 2.305902, Train accuracy: 0.153222, val accuracy: 0.142000\n",
      "Loss: 2.244971, Train accuracy: 0.154111, val accuracy: 0.142000\n",
      "Loss: 2.313547, Train accuracy: 0.155000, val accuracy: 0.142000\n",
      "Loss: 2.268741, Train accuracy: 0.152000, val accuracy: 0.131000\n",
      "Loss: 2.241638, Train accuracy: 0.166889, val accuracy: 0.143000\n",
      "Loss: 2.289532, Train accuracy: 0.171778, val accuracy: 0.152000\n",
      "Loss: 2.332772, Train accuracy: 0.176333, val accuracy: 0.159000\n",
      "Loss: 2.254451, Train accuracy: 0.179333, val accuracy: 0.162000\n",
      "Loss: 2.260202, Train accuracy: 0.181556, val accuracy: 0.172000\n",
      "Loss: 2.186881, Train accuracy: 0.182778, val accuracy: 0.179000\n",
      "Loss: 2.246296, Train accuracy: 0.184889, val accuracy: 0.182000\n",
      "Loss: 2.314828, Train accuracy: 0.186556, val accuracy: 0.181000\n",
      "Loss: 2.270169, Train accuracy: 0.187000, val accuracy: 0.185000\n",
      "Loss: 2.261766, Train accuracy: 0.188111, val accuracy: 0.188000\n",
      "Loss: 2.316689, Train accuracy: 0.188444, val accuracy: 0.189000\n",
      "Loss: 2.237998, Train accuracy: 0.188778, val accuracy: 0.190000\n",
      "Loss: 2.297470, Train accuracy: 0.189333, val accuracy: 0.191000\n",
      "Loss: 2.202179, Train accuracy: 0.190556, val accuracy: 0.190000\n",
      "Loss: 2.290705, Train accuracy: 0.191111, val accuracy: 0.193000\n",
      "Loss: 2.269493, Train accuracy: 0.191556, val accuracy: 0.192000\n",
      "Loss: 2.344288, Train accuracy: 0.191778, val accuracy: 0.194000\n",
      "Loss: 2.282146, Train accuracy: 0.191889, val accuracy: 0.193000\n",
      "Loss: 2.293591, Train accuracy: 0.192111, val accuracy: 0.193000\n",
      "Loss: 2.321399, Train accuracy: 0.088778, val accuracy: 0.090000\n",
      "Loss: 2.342780, Train accuracy: 0.098556, val accuracy: 0.095000\n",
      "Loss: 2.277954, Train accuracy: 0.107444, val accuracy: 0.109000\n",
      "Loss: 2.337416, Train accuracy: 0.115778, val accuracy: 0.119000\n",
      "Loss: 2.341754, Train accuracy: 0.124667, val accuracy: 0.129000\n",
      "Loss: 2.329383, Train accuracy: 0.131333, val accuracy: 0.137000\n",
      "Loss: 2.287305, Train accuracy: 0.136000, val accuracy: 0.142000\n",
      "Loss: 2.268576, Train accuracy: 0.140556, val accuracy: 0.150000\n",
      "Loss: 2.217302, Train accuracy: 0.142778, val accuracy: 0.152000\n",
      "Loss: 2.236385, Train accuracy: 0.144778, val accuracy: 0.158000\n",
      "Loss: 2.278162, Train accuracy: 0.147000, val accuracy: 0.161000\n",
      "Loss: 2.307648, Train accuracy: 0.148889, val accuracy: 0.158000\n",
      "Loss: 2.230357, Train accuracy: 0.150222, val accuracy: 0.159000\n",
      "Loss: 2.265940, Train accuracy: 0.150778, val accuracy: 0.163000\n",
      "Loss: 2.317826, Train accuracy: 0.151556, val accuracy: 0.165000\n",
      "Loss: 2.271892, Train accuracy: 0.152778, val accuracy: 0.166000\n",
      "Loss: 2.278738, Train accuracy: 0.153556, val accuracy: 0.166000\n",
      "Loss: 2.283807, Train accuracy: 0.154111, val accuracy: 0.167000\n",
      "Loss: 2.320965, Train accuracy: 0.154111, val accuracy: 0.166000\n",
      "Loss: 2.272072, Train accuracy: 0.153556, val accuracy: 0.165000\n",
      "best validation accuracy achieved: 0.713000\n",
      "[1.00e-03 1.00e-06 9.99e-01]\n"
     ]
    }
   ],
   "source": [
    "# Let's train the best one-hidden-layer network we can\n",
    "\n",
    "learning_rates = [1e-3, 1e-4, 1e-5]\n",
    "reg_strength = [1e-4, 1e-5, 1e-6]\n",
    "learning_rate_decay = [0.999, 0.9, 0.88]\n",
    "hidden_layer_size = 175\n",
    "num_epochs = 200\n",
    "batch_size = 64\n",
    "\n",
    "best_classifier = None\n",
    "best_val_accuracy = None\n",
    "best_hyperparams = None\n",
    "\n",
    "loss_history = []\n",
    "train_history = []\n",
    "val_history = []\n",
    "\n",
    "# TODO find the best hyperparameters to train the network\n",
    "# Don't hesitate to add new values to the arrays above, perform experiments, use any tricks you want\n",
    "# You should expect to get to at least 40% of valudation accuracy\n",
    "# Save loss/train/history of the best classifier to the variables above\n",
    "\n",
    "dataset = Dataset(train_X, train_y, val_X, val_y)\n",
    "\n",
    "hyperparams = np.array(np.meshgrid(learning_rates, reg_strength, learning_rate_decay)).T.reshape(-1,3)\n",
    "for hp in hyperparams:\n",
    "    model = TwoLayerNet(n_input = train_X.shape[1], n_output = 10, hidden_layer_size = hidden_layer_size, reg = hp[1])\n",
    "    trainer = Trainer(model, dataset, MomentumSGD(), learning_rate=hp[0], learning_rate_decay=hp[2])\n",
    "    loss, train_acc, val_acc = trainer.fit()\n",
    "    if best_val_accuracy == None:\n",
    "        best_val_accuracy = val_acc[-1]\n",
    "        best_classifier = trainer\n",
    "        loss_history = loss\n",
    "        train_history = train_acc\n",
    "        val_history = val_acc\n",
    "        best_hyperparams = hp\n",
    "    elif val_acc[-1] > best_val_accuracy:\n",
    "        best_val_accuracy = val_acc[-1]\n",
    "        best_classifier = trainer\n",
    "        loss_history = loss\n",
    "        train_history = train_acc\n",
    "        val_history = val_acc\n",
    "        best_hyperparams = hp\n",
    "\n",
    "print('best validation accuracy achieved: %f' % best_val_accuracy)\n",
    "print(best_hyperparams)"
   ]
  },
  {
   "cell_type": "code",
   "execution_count": 17,
   "metadata": {},
   "outputs": [
    {
     "data": {
      "text/plain": [
       "[<matplotlib.lines.Line2D at 0x2a1c97eb860>]"
      ]
     },
     "execution_count": 17,
     "metadata": {},
     "output_type": "execute_result"
    },
    {
     "data": {
      "image/png": "[encoded data removed]",
      "text/plain": [
       "<Figure size 1080x504 with 2 Axes>"
      ]
     },
     "metadata": {
      "needs_background": "light"
     },
     "output_type": "display_data"
    }
   ],
   "source": [
    "plt.figure(figsize=(15, 7))\n",
    "plt.subplot(211)\n",
    "plt.title(\"Loss\")\n",
    "plt.plot(loss_history)\n",
    "plt.subplot(212)\n",
    "plt.title(\"Train/validation accuracy\")\n",
    "plt.plot(train_history)\n",
    "plt.plot(val_history)"
   ]
  },
  {
   "cell_type": "markdown",
   "metadata": {},
   "source": [
    "# Как обычно, посмотрим, как наша лучшая модель работает на тестовых данных"
   ]
  },
  {
   "cell_type": "code",
   "execution_count": 18,
   "metadata": {},
   "outputs": [
    {
     "name": "stdout",
     "output_type": "stream",
     "text": [
      "Neural net test set accuracy: 0.657000\n"
     ]
    }
   ],
   "source": [
    "test_accuracy = best_classifier.compute_accuracy(test_X, test_y)\n",
    "print('Neural net test set accuracy: %f' % (test_accuracy, ))"
   ]
  }
 ],
 "metadata": {
  "kernelspec": {
   "display_name": "Python 3",
   "language": "python",
   "name": "python3"
  },
  "language_info": {
   "codemirror_mode": {
    "name": "ipython",
    "version": 3
   },
   "file_extension": ".py",
   "mimetype": "text/x-python",
   "name": "python",
   "nbconvert_exporter": "python",
   "pygments_lexer": "ipython3",
   "version": "3.7.3"
  }
 },
 "nbformat": 4,
 "nbformat_minor": 2
}
